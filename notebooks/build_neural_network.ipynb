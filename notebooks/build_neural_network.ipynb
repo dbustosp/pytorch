{
 "cells": [
  {
   "cell_type": "markdown",
   "id": "7ada2933-cd5b-49c3-b312-697881304988",
   "metadata": {},
   "source": [
    "# BUILD THE NEURAL NETWORK\n",
    "\n",
    "Neural networks comprise of layers/modules that perform operations on data. The `torch.nn` namespace provides all the building blocks you need to build \n",
    "your own neural network. Every module in PyTorch subclasses the `nn.Module`. A neural network is a module itself that consists of other modules (layers). \n",
    "This nested structure allows for building and managing complex architectures easily."
   ]
  },
  {
   "cell_type": "code",
   "execution_count": 2,
   "id": "97200a0e-b9b4-4906-981c-8d9e108971bf",
   "metadata": {},
   "outputs": [],
   "source": [
    "import os\n",
    "import torch\n",
    "from torch import nn\n",
    "from torch.utils.data import DataLoader\n",
    "from torchvision import datasets, transforms"
   ]
  },
  {
   "cell_type": "code",
   "execution_count": 4,
   "id": "62abb30f-0aea-41f0-b492-907da83c9fa4",
   "metadata": {},
   "outputs": [
    {
     "name": "stdout",
     "output_type": "stream",
     "text": [
      "Using mps device\n"
     ]
    }
   ],
   "source": [
    "device = \"cuda\" if torch.cuda.is_available() else \"mps\" if torch.backends.mps.is_available() else \"cpu\"\n",
    "print(f\"Using {device} device\")"
   ]
  },
  {
   "cell_type": "markdown",
   "id": "0ed9e427-ac15-46a9-ae22-af06099b7c42",
   "metadata": {},
   "source": [
    "## Define the class\n",
    "We define our neural network by subclassing `nn.Module`, and initialize the neural network layers in `__init__`. Every `nn.Module` subclass implements the operations on input data in the forward method."
   ]
  },
  {
   "cell_type": "code",
   "execution_count": 7,
   "id": "cfbf17e6-ffb1-4ae4-8022-d6e359285698",
   "metadata": {},
   "outputs": [],
   "source": [
    "class NeuralNetwork(nn.Module):\n",
    "    def __init__(self):\n",
    "        super(NeuralNetwork, self).__init__()\n",
    "        self.flatten = nn.Flatten()\n",
    "        self.linear_relu_stack = nn.Sequential(\n",
    "            nn.Linear(28 * 28, 512),\n",
    "            nn.ReLU(),\n",
    "            nn.Linear(512, 512),\n",
    "            nn.ReLU(),\n",
    "            nn.Linear(512, 10),\n",
    "        )\n",
    "\n",
    "    def forward(self, x):\n",
    "        x = self.flatten(x)\n",
    "        logits = self.linear_relu_stack(x)\n",
    "        return logits"
   ]
  },
  {
   "cell_type": "code",
   "execution_count": 8,
   "id": "7e424aca-6ed6-418c-82ed-b8f00e9bd5b7",
   "metadata": {},
   "outputs": [
    {
     "name": "stdout",
     "output_type": "stream",
     "text": [
      "NeuralNetwork(\n",
      "  (flatten): Flatten(start_dim=1, end_dim=-1)\n",
      "  (linear_relu_stack): Sequential(\n",
      "    (0): Linear(in_features=784, out_features=512, bias=True)\n",
      "    (1): ReLU()\n",
      "    (2): Linear(in_features=512, out_features=512, bias=True)\n",
      "    (3): ReLU()\n",
      "    (4): Linear(in_features=512, out_features=10, bias=True)\n",
      "  )\n",
      ")\n"
     ]
    }
   ],
   "source": [
    "model = NeuralNetwork().to(device)\n",
    "print(model)"
   ]
  },
  {
   "cell_type": "markdown",
   "id": "081cbd19-5d26-4a5d-9d05-d058cc5fb783",
   "metadata": {},
   "source": [
    "To use the model, we pass it the input data. This executes the model’s forward, along with some background operations. **Do not call `model.forward()` directly!**\n",
    "\n",
    "Calling the model on the input returns a 2-dimensional tensor with dim=0 corresponding to each output of 10 raw predicted values for each class, \n",
    "and dim=1 corresponding to the individual values of each output. \n",
    "We get the prediction probabilities by passing it through an instance of the `nn.Softmax` module.\n"
   ]
  },
  {
   "cell_type": "code",
   "execution_count": 18,
   "id": "620e0bfa-2b00-4afb-b3bb-4780f860591f",
   "metadata": {},
   "outputs": [
    {
     "name": "stdout",
     "output_type": "stream",
     "text": [
      "logits tensor([[-0.0419, -0.0241,  0.1340,  0.0301,  0.0066, -0.0381,  0.0573,  0.0994,\n",
      "         -0.0561, -0.0007]], device='mps:0', grad_fn=<LinearBackward0>)\n",
      "Predicted class: tensor([2], device='mps:0')\n"
     ]
    }
   ],
   "source": [
    "X = torch.rand(1, 28, 28, device=device)\n",
    "logits = model(X)\n",
    "print(f\"logits {logits}\")\n",
    "pred_probab = nn.Softmax(dim=1)(logits)\n",
    "y_pred = pred_probab.argmax(1)\n",
    "print(f\"Predicted class: {y_pred}\")"
   ]
  },
  {
   "cell_type": "markdown",
   "id": "afc23145-e0bf-4c1d-8193-4d50c5e10a66",
   "metadata": {},
   "source": [
    "## Model Layers\n",
    "\n",
    "Let’s break down the layers in the FashionMNIST model. To illustrate it, we will take a sample minibatch of 3 images of size 28x28 and see what happens to it as we pass it through the network."
   ]
  },
  {
   "cell_type": "code",
   "execution_count": 20,
   "id": "551cfe5e-0af2-439b-b82b-5e11430873a2",
   "metadata": {},
   "outputs": [
    {
     "name": "stdout",
     "output_type": "stream",
     "text": [
      "torch.Size([3, 28, 28])\n"
     ]
    }
   ],
   "source": [
    "input_image = torch.rand(3,28,28)\n",
    "print(input_image.size())"
   ]
  },
  {
   "cell_type": "markdown",
   "id": "14df0ab3-e458-44c1-9d76-eb66c586097b",
   "metadata": {},
   "source": [
    "### nn.Flatten\n",
    "\n",
    "We initialize the `nn.Flatten` layer to convert each `2D 28x28` image into a contiguous array of 784 pixel values (the minibatch dimension (at dim=0) is maintained).\n"
   ]
  },
  {
   "cell_type": "code",
   "execution_count": 21,
   "id": "1ba53803-24ff-4477-8b2d-e6d8458f8b0f",
   "metadata": {},
   "outputs": [
    {
     "name": "stdout",
     "output_type": "stream",
     "text": [
      "torch.Size([3, 784])\n"
     ]
    }
   ],
   "source": [
    "flatten = nn.Flatten()\n",
    "flat_image = flatten(input_image)\n",
    "print(flat_image.size())"
   ]
  },
  {
   "cell_type": "markdown",
   "id": "22f082d2-a35e-4b64-b423-b5e81fe8e735",
   "metadata": {},
   "source": [
    "### nn.Linear\n",
    "\n",
    "The linear layer is a module that applies a linear transformation on the input using its stored weights and biases."
   ]
  },
  {
   "cell_type": "code",
   "execution_count": 22,
   "id": "fb5d509d-ee9a-4209-a188-a40cdf6ac974",
   "metadata": {},
   "outputs": [
    {
     "name": "stdout",
     "output_type": "stream",
     "text": [
      "torch.Size([3, 20])\n"
     ]
    }
   ],
   "source": [
    "layer1 = nn.Linear(in_features=28*28, out_features=20)\n",
    "hidden1 = layer1(flat_image)\n",
    "print(hidden1.size())"
   ]
  },
  {
   "cell_type": "markdown",
   "id": "d09f82e5-0ace-4099-a573-84659cd18bd4",
   "metadata": {},
   "source": [
    "### nn.ReLU\n",
    "\n",
    "Non-linear activations are what create the complex mappings between the model’s inputs and outputs. \n",
    "They are applied after linear transformations to introduce nonlinearity, helping neural networks learn a wide variety of phenomena.\n",
    "\n",
    "In this model, we use nn.ReLU between our linear layers, but there’s other activations to introduce non-linearity in your model."
   ]
  },
  {
   "cell_type": "code",
   "execution_count": 24,
   "id": "0b6c5fc9-6482-4c67-b13c-4aaed46fe2a1",
   "metadata": {},
   "outputs": [
    {
     "name": "stdout",
     "output_type": "stream",
     "text": [
      "Before ReLU: tensor([[ 6.2961e-01, -1.2621e-01, -3.9469e-01,  2.3539e-01,  3.8986e-01,\n",
      "         -9.0424e-02,  3.7933e-02, -1.1876e-01,  2.4769e-01,  1.5144e-01,\n",
      "         -1.8520e-01,  1.1601e-03, -4.0249e-01,  2.7954e-01,  9.3056e-02,\n",
      "          1.1420e-01,  4.2645e-01, -4.0764e-01,  3.1598e-01, -5.6935e-02],\n",
      "        [ 8.8202e-01, -4.8923e-02, -5.6764e-01, -5.4005e-02, -7.3714e-03,\n",
      "         -2.1598e-01, -1.8244e-01, -8.6752e-02,  7.8759e-02, -2.7725e-01,\n",
      "         -1.8436e-01,  1.9359e-01, -5.6556e-01,  2.0110e-01, -1.1829e-01,\n",
      "         -8.7833e-03,  3.7301e-01, -3.4590e-01,  3.0682e-01, -1.5499e-01],\n",
      "        [ 2.5317e-01, -1.8795e-01, -3.1644e-01,  9.0782e-03,  4.7826e-01,\n",
      "         -2.4548e-01, -2.5391e-01, -5.2906e-02,  8.9920e-05, -6.9755e-02,\n",
      "         -3.8659e-01,  1.1220e-01, -5.3168e-01,  3.1426e-01, -1.7867e-01,\n",
      "          1.8152e-01,  2.5654e-01, -4.6630e-01,  5.6413e-01,  2.1538e-01]],\n",
      "       grad_fn=<AddmmBackward0>)\n",
      "\n",
      "\n",
      "After ReLU: tensor([[6.2961e-01, 0.0000e+00, 0.0000e+00, 2.3539e-01, 3.8986e-01, 0.0000e+00,\n",
      "         3.7933e-02, 0.0000e+00, 2.4769e-01, 1.5144e-01, 0.0000e+00, 1.1601e-03,\n",
      "         0.0000e+00, 2.7954e-01, 9.3056e-02, 1.1420e-01, 4.2645e-01, 0.0000e+00,\n",
      "         3.1598e-01, 0.0000e+00],\n",
      "        [8.8202e-01, 0.0000e+00, 0.0000e+00, 0.0000e+00, 0.0000e+00, 0.0000e+00,\n",
      "         0.0000e+00, 0.0000e+00, 7.8759e-02, 0.0000e+00, 0.0000e+00, 1.9359e-01,\n",
      "         0.0000e+00, 2.0110e-01, 0.0000e+00, 0.0000e+00, 3.7301e-01, 0.0000e+00,\n",
      "         3.0682e-01, 0.0000e+00],\n",
      "        [2.5317e-01, 0.0000e+00, 0.0000e+00, 9.0782e-03, 4.7826e-01, 0.0000e+00,\n",
      "         0.0000e+00, 0.0000e+00, 8.9920e-05, 0.0000e+00, 0.0000e+00, 1.1220e-01,\n",
      "         0.0000e+00, 3.1426e-01, 0.0000e+00, 1.8152e-01, 2.5654e-01, 0.0000e+00,\n",
      "         5.6413e-01, 2.1538e-01]], grad_fn=<ReluBackward0>)\n"
     ]
    }
   ],
   "source": [
    "print(f\"Before ReLU: {hidden1}\\n\\n\")\n",
    "hidden1 = nn.ReLU()(hidden1)\n",
    "print(f\"After ReLU: {hidden1}\")"
   ]
  },
  {
   "cell_type": "markdown",
   "id": "4f450b80-347e-433d-af6f-cdb7df6c3848",
   "metadata": {},
   "source": [
    "### nn.Sequential\n",
    "\n",
    "nn.Sequential is an ordered container of modules. The data is passed through all the modules in the same order as defined. \n",
    "You can use sequential containers to put together a quick network like seq_modules."
   ]
  },
  {
   "cell_type": "code",
   "execution_count": 29,
   "id": "5edd69fd-bf96-4d47-b3b1-6e768072d381",
   "metadata": {},
   "outputs": [
    {
     "data": {
      "text/plain": [
       "torch.Size([3, 10])"
      ]
     },
     "execution_count": 29,
     "metadata": {},
     "output_type": "execute_result"
    }
   ],
   "source": [
    "seq_modules = nn.Sequential(\n",
    "    flatten,\n",
    "    layer1,\n",
    "    nn.ReLU(),\n",
    "    nn.Linear(20, 10)\n",
    ")\n",
    "input_image = torch.rand(3,28,28)\n",
    "logits = seq_modules(input_image)\n",
    "logits.size()"
   ]
  },
  {
   "cell_type": "markdown",
   "id": "887ca78c-55c7-4512-b531-727a912e72c1",
   "metadata": {},
   "source": [
    "### nn.Softmax\n",
    "\n",
    "The last linear layer of the neural network returns logits - raw values in [-infty, infty] - which are passed to the nn.Softmax module. The logits are scaled to values [0, 1] representing the model’s predicted probabilities for each class. dim parameter indicates the dimension along which the values must sum to 1."
   ]
  },
  {
   "cell_type": "code",
   "execution_count": 31,
   "id": "c4e9cb57-5327-4e34-bd78-c18ab150ecf7",
   "metadata": {},
   "outputs": [
    {
     "data": {
      "text/plain": [
       "tensor([[0.0846, 0.0922, 0.1139, 0.0663, 0.1131, 0.0950, 0.1083, 0.0876, 0.1104,\n",
       "         0.1285],\n",
       "        [0.0662, 0.0891, 0.0994, 0.0722, 0.1142, 0.1064, 0.1152, 0.0860, 0.1298,\n",
       "         0.1213],\n",
       "        [0.0833, 0.0996, 0.1072, 0.0761, 0.1222, 0.0920, 0.1126, 0.0950, 0.0957,\n",
       "         0.1162]], grad_fn=<SoftmaxBackward0>)"
      ]
     },
     "execution_count": 31,
     "metadata": {},
     "output_type": "execute_result"
    }
   ],
   "source": [
    "softmax = nn.Softmax(dim=1)\n",
    "pred_probab = softmax(logits)\n",
    "pred_probab"
   ]
  },
  {
   "cell_type": "markdown",
   "id": "43b090d5-64e7-4859-b58e-9e1e9bac3f96",
   "metadata": {},
   "source": [
    "## Model Parameters\n",
    "\n",
    "Many layers inside a neural network are parameterized, i.e. have associated weights and biases that are optimized during training. \n",
    "Subclassing `nn.Module` automatically tracks all fields defined inside your model object, and makes all parameters accessible using your model’s `parameters()` or `named_parameters()` methods.\n",
    "\n"
   ]
  },
  {
   "cell_type": "code",
   "execution_count": 32,
   "id": "3ba8ccf7-8e78-42a0-a1cf-2ab3519742f5",
   "metadata": {},
   "outputs": [
    {
     "name": "stdout",
     "output_type": "stream",
     "text": [
      "Model structure: NeuralNetwork(\n",
      "  (flatten): Flatten(start_dim=1, end_dim=-1)\n",
      "  (linear_relu_stack): Sequential(\n",
      "    (0): Linear(in_features=784, out_features=512, bias=True)\n",
      "    (1): ReLU()\n",
      "    (2): Linear(in_features=512, out_features=512, bias=True)\n",
      "    (3): ReLU()\n",
      "    (4): Linear(in_features=512, out_features=10, bias=True)\n",
      "  )\n",
      ")\n",
      "\n",
      "\n",
      "Layer: linear_relu_stack.0.weight | Size: torch.Size([512, 784]) | Values : tensor([[ 0.0044, -0.0135, -0.0091,  ..., -0.0240, -0.0225,  0.0221],\n",
      "        [ 0.0179, -0.0227, -0.0324,  ...,  0.0163,  0.0066,  0.0351]],\n",
      "       device='mps:0', grad_fn=<SliceBackward0>) \n",
      "\n",
      "Layer: linear_relu_stack.0.bias | Size: torch.Size([512]) | Values : tensor([ 0.0041, -0.0297], device='mps:0', grad_fn=<SliceBackward0>) \n",
      "\n",
      "Layer: linear_relu_stack.2.weight | Size: torch.Size([512, 512]) | Values : tensor([[-0.0088,  0.0212,  0.0377,  ..., -0.0255,  0.0183,  0.0012],\n",
      "        [ 0.0258, -0.0054,  0.0411,  ..., -0.0108,  0.0058,  0.0194]],\n",
      "       device='mps:0', grad_fn=<SliceBackward0>) \n",
      "\n",
      "Layer: linear_relu_stack.2.bias | Size: torch.Size([512]) | Values : tensor([ 0.0312, -0.0435], device='mps:0', grad_fn=<SliceBackward0>) \n",
      "\n",
      "Layer: linear_relu_stack.4.weight | Size: torch.Size([10, 512]) | Values : tensor([[-0.0282, -0.0425,  0.0345,  ..., -0.0229,  0.0290,  0.0046],\n",
      "        [-0.0123, -0.0250, -0.0251,  ..., -0.0260, -0.0011,  0.0078]],\n",
      "       device='mps:0', grad_fn=<SliceBackward0>) \n",
      "\n",
      "Layer: linear_relu_stack.4.bias | Size: torch.Size([10]) | Values : tensor([-0.0138, -0.0172], device='mps:0', grad_fn=<SliceBackward0>) \n",
      "\n"
     ]
    }
   ],
   "source": [
    "print(f\"Model structure: {model}\\n\\n\")\n",
    "\n",
    "for name, param in model.named_parameters():\n",
    "    print(f\"Layer: {name} | Size: {param.size()} | Values : {param[:2]} \\n\")"
   ]
  }
 ],
 "metadata": {
  "kernelspec": {
   "display_name": "Python 3 (ipykernel)",
   "language": "python",
   "name": "python3"
  },
  "language_info": {
   "codemirror_mode": {
    "name": "ipython",
    "version": 3
   },
   "file_extension": ".py",
   "mimetype": "text/x-python",
   "name": "python",
   "nbconvert_exporter": "python",
   "pygments_lexer": "ipython3",
   "version": "3.9.7"
  }
 },
 "nbformat": 4,
 "nbformat_minor": 5
}
