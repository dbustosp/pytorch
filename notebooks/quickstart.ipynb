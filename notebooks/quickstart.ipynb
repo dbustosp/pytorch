{
 "cells": [
  {
   "cell_type": "markdown",
   "id": "352b2d1f-642c-4b70-a1d8-0533844a7d7c",
   "metadata": {},
   "source": [
    "# Quickstart\n",
    "\n",
    "Following [this tutotial](https://pytorch.org/tutorials/beginner/basics/quickstart_tutorial.html)\n",
    "\n",
    "## Working with data"
   ]
  },
  {
   "cell_type": "code",
   "execution_count": 1,
   "id": "0fa6835c-9c8b-4565-b119-4c6cef5ffea0",
   "metadata": {},
   "outputs": [],
   "source": [
    "import torch\n",
    "from torch import nn\n",
    "from torch.utils.data import DataLoader\n",
    "from torchvision import datasets\n",
    "from torchvision.transforms import ToTensor"
   ]
  },
  {
   "cell_type": "markdown",
   "id": "48cb4786-d274-4932-9047-8fe03644c542",
   "metadata": {},
   "source": [
    "PyTorch offers domain-specific libraries such as `TorchText`, `TorchVision`, and `TorchAudio`, all of which include datasets. For this tutorial, we will be using a `TorchVision` dataset.\n",
    "\n",
    "The `torchvision.datasets` module contains Dataset objects for many real-world vision data like CIFAR, COCO (full list here). In this tutorial, we use the `FashionMNIST` dataset. Every TorchVision Dataset includes two arguments: transform and target_transform to modify the samples and labels respectively."
   ]
  },
  {
   "cell_type": "code",
   "execution_count": 3,
   "id": "3c6aff88-432b-45af-99b0-89afe2df8233",
   "metadata": {},
   "outputs": [
    {
     "name": "stdout",
     "output_type": "stream",
     "text": [
      "Downloading http://fashion-mnist.s3-website.eu-central-1.amazonaws.com/train-images-idx3-ubyte.gz\n",
      "Downloading http://fashion-mnist.s3-website.eu-central-1.amazonaws.com/train-images-idx3-ubyte.gz to data/FashionMNIST/raw/train-images-idx3-ubyte.gz\n"
     ]
    },
    {
     "name": "stderr",
     "output_type": "stream",
     "text": [
      "100.0%\n"
     ]
    },
    {
     "name": "stdout",
     "output_type": "stream",
     "text": [
      "Extracting data/FashionMNIST/raw/train-images-idx3-ubyte.gz to data/FashionMNIST/raw\n",
      "\n",
      "Downloading http://fashion-mnist.s3-website.eu-central-1.amazonaws.com/train-labels-idx1-ubyte.gz\n",
      "Downloading http://fashion-mnist.s3-website.eu-central-1.amazonaws.com/train-labels-idx1-ubyte.gz to data/FashionMNIST/raw/train-labels-idx1-ubyte.gz\n"
     ]
    },
    {
     "name": "stderr",
     "output_type": "stream",
     "text": [
      "100.0%\n"
     ]
    },
    {
     "name": "stdout",
     "output_type": "stream",
     "text": [
      "Extracting data/FashionMNIST/raw/train-labels-idx1-ubyte.gz to data/FashionMNIST/raw\n",
      "\n",
      "Downloading http://fashion-mnist.s3-website.eu-central-1.amazonaws.com/t10k-images-idx3-ubyte.gz\n",
      "Downloading http://fashion-mnist.s3-website.eu-central-1.amazonaws.com/t10k-images-idx3-ubyte.gz to data/FashionMNIST/raw/t10k-images-idx3-ubyte.gz\n"
     ]
    },
    {
     "name": "stderr",
     "output_type": "stream",
     "text": [
      "100.0%\n"
     ]
    },
    {
     "name": "stdout",
     "output_type": "stream",
     "text": [
      "Extracting data/FashionMNIST/raw/t10k-images-idx3-ubyte.gz to data/FashionMNIST/raw\n",
      "\n",
      "Downloading http://fashion-mnist.s3-website.eu-central-1.amazonaws.com/t10k-labels-idx1-ubyte.gz\n",
      "Downloading http://fashion-mnist.s3-website.eu-central-1.amazonaws.com/t10k-labels-idx1-ubyte.gz to data/FashionMNIST/raw/t10k-labels-idx1-ubyte.gz\n"
     ]
    },
    {
     "name": "stderr",
     "output_type": "stream",
     "text": [
      "100.0%"
     ]
    },
    {
     "name": "stdout",
     "output_type": "stream",
     "text": [
      "Extracting data/FashionMNIST/raw/t10k-labels-idx1-ubyte.gz to data/FashionMNIST/raw\n",
      "\n"
     ]
    },
    {
     "name": "stderr",
     "output_type": "stream",
     "text": [
      "\n"
     ]
    }
   ],
   "source": [
    "# Download training data from open datasets.\n",
    "training_data = datasets.FashionMNIST(\n",
    "    root=\"data\",\n",
    "    train=True,\n",
    "    download=True,\n",
    "    transform=ToTensor(),\n",
    ")\n",
    "\n",
    "# Download test data from open datasets.\n",
    "test_data = datasets.FashionMNIST(\n",
    "    root=\"data\",\n",
    "    train=False,\n",
    "    download=True,\n",
    "    transform=ToTensor(),\n",
    ")"
   ]
  },
  {
   "cell_type": "markdown",
   "id": "8e75e80d-2c3a-4663-a400-dc991995afb8",
   "metadata": {},
   "source": [
    "We pass the Dataset as an argument to `DataLoader`. This wraps an iterable over our dataset, and supports automatic batching, sampling, shuffling and multiprocess data loading. Here we define a batch size of 64, i.e. each element in the dataloader iterable will return a batch of 64 features and labels."
   ]
  },
  {
   "cell_type": "code",
   "execution_count": 4,
   "id": "1b6c14ab-7cbb-4cd1-86b9-520e5a0ea18d",
   "metadata": {},
   "outputs": [
    {
     "name": "stdout",
     "output_type": "stream",
     "text": [
      "Shape of X [N, C, H, W]: torch.Size([64, 1, 28, 28])\n",
      "Shape of y: torch.Size([64]) torch.int64\n"
     ]
    }
   ],
   "source": [
    "batch_size = 64\n",
    "\n",
    "# Create data loaders.\n",
    "train_dataloader = DataLoader(training_data, batch_size=batch_size)\n",
    "test_dataloader = DataLoader(test_data, batch_size=batch_size)\n",
    "\n",
    "for X, y in test_dataloader:\n",
    "    print(f\"Shape of X [N, C, H, W]: {X.shape}\")\n",
    "    print(f\"Shape of y: {y.shape} {y.dtype}\")\n",
    "    break"
   ]
  },
  {
   "cell_type": "markdown",
   "id": "56a0f925-bd53-4d1a-905e-3ea7e923c669",
   "metadata": {},
   "source": [
    "## Creating models\n",
    "\n",
    "To define a neural network in PyTorch, we create a class that inherits from `nn.Module`. We define the layers of the network in the `__init__` function and specify how data will pass through the network in the forward function. To accelerate operations in the neural network, we move it to the GPU if available."
   ]
  },
  {
   "cell_type": "code",
   "execution_count": 34,
   "id": "a8763f56-7e13-4f04-b00e-9b20fbeacf97",
   "metadata": {},
   "outputs": [
    {
     "name": "stdout",
     "output_type": "stream",
     "text": [
      "Using mps device\n"
     ]
    }
   ],
   "source": [
    "# Get cpu or gpu device for training.\n",
    "device = \"cuda\" if torch.cuda.is_available() else \"mps\" if torch.backends.mps.is_available() else \"cpu\"\n",
    "print(f\"Using {device} device\")"
   ]
  },
  {
   "cell_type": "markdown",
   "id": "0cca67a9-11fd-4620-9f1a-d8c54c7b20e9",
   "metadata": {},
   "source": [
    "### nn.Flaten\n",
    "`torch.nn.Flatten(start_dim=1, end_dim=- 1)`\n",
    "\n",
    "Flattens a contiguous range of dims into a tensor. For use with Sequential.\n",
    "\n",
    "Parameters:\n",
    "- start_dim (int) – first dim to flatten (default = 1).\n",
    "- end_dim (int) – last dim to flatten (default = -1).\n"
   ]
  },
  {
   "cell_type": "code",
   "execution_count": 13,
   "id": "587a1306-6b0f-4290-bbd1-68f3e9be3ff9",
   "metadata": {},
   "outputs": [
    {
     "data": {
      "text/plain": [
       "torch.Size([32, 1, 5, 5])"
      ]
     },
     "execution_count": 26,
     "metadata": {},
     "output_type": "execute_result"
    }
   ],
   "source": [
    "input = torch.randn(32, 1, 5, 5)\n",
    "input.shape"
   ]
  },
  {
   "cell_type": "code",
   "execution_count": 17,
   "id": "207965d3-ab3f-438a-a412-2f7f8b99508b",
   "metadata": {},
   "outputs": [
    {
     "name": "stdout",
     "output_type": "stream",
     "text": [
      "torch.Size([32, 25])\n"
     ]
    }
   ],
   "source": [
    "m = nn.Flatten()\n",
    "output = m(input)\n",
    "print(output.size())"
   ]
  },
  {
   "cell_type": "code",
   "execution_count": 18,
   "id": "4808ba59-4af2-42b4-a3c9-ee05251be832",
   "metadata": {},
   "outputs": [
    {
     "data": {
      "text/plain": [
       "torch.Size([160, 5])"
      ]
     },
     "execution_count": 28,
     "metadata": {},
     "output_type": "execute_result"
    }
   ],
   "source": [
    "m = nn.Flatten(0, 2)\n",
    "output = m(input)\n",
    "output.size()"
   ]
  },
  {
   "cell_type": "code",
   "execution_count": 6,
   "id": "67df5db3-63d6-4fb7-95c7-fefbcedcbd0f",
   "metadata": {},
   "outputs": [
    {
     "name": "stdout",
     "output_type": "stream",
     "text": [
      "NeuralNetwork(\n",
      "  (flatten): Flatten(start_dim=1, end_dim=-1)\n",
      "  (linear_relu_stack): Sequential(\n",
      "    (0): Linear(in_features=784, out_features=512, bias=True)\n",
      "    (1): ReLU()\n",
      "    (2): Linear(in_features=512, out_features=512, bias=True)\n",
      "    (3): ReLU()\n",
      "    (4): Linear(in_features=512, out_features=10, bias=True)\n",
      "  )\n",
      ")\n"
     ]
    }
   ],
   "source": [
    "# Define model\n",
    "class NeuralNetwork(nn.Module):\n",
    "    def __init__(self):\n",
    "        super().__init__()\n",
    "        self.flatten = nn.Flatten()\n",
    "        self.linear_relu_stack = nn.Sequential(\n",
    "            nn.Linear(28*28, 512),\n",
    "            nn.ReLU(),\n",
    "            nn.Linear(512, 512),\n",
    "            nn.ReLU(),\n",
    "            nn.Linear(512, 10)\n",
    "        )\n",
    "\n",
    "    def forward(self, x):\n",
    "        x = self.flatten(x)\n",
    "        logits = self.linear_relu_stack(x)\n",
    "        return logits\n",
    "\n",
    "model = NeuralNetwork().to(device)\n",
    "print(model)"
   ]
  },
  {
   "cell_type": "markdown",
   "id": "f2e5f71a-5f3d-48a2-a28c-bf2b580a0e6b",
   "metadata": {},
   "source": [
    "Optimizing the Model Parameters\n",
    "To train a model, we need a loss function and an optimizer."
   ]
  },
  {
   "cell_type": "code",
   "execution_count": 19,
   "id": "541b3622-fc12-4bb7-ac9b-568a7cb95f96",
   "metadata": {},
   "outputs": [],
   "source": [
    "loss_fn = nn.CrossEntropyLoss()\n",
    "optimizer = torch.optim.SGD(model.parameters(), lr=1e-3)"
   ]
  },
  {
   "cell_type": "code",
   "execution_count": 20,
   "id": "34faabcd-6bcf-4d0b-b3a9-40486f868039",
   "metadata": {},
   "outputs": [],
   "source": [
    "def train(dataloader, model, loss_fn, optimizer):\n",
    "    size = len(dataloader.dataset)\n",
    "    model.train()\n",
    "    for batch, (X, y) in enumerate(dataloader):\n",
    "        X, y = X.to(device), y.to(device)\n",
    "\n",
    "        # Compute prediction error\n",
    "        pred = model(X)\n",
    "        loss = loss_fn(pred, y)\n",
    "\n",
    "        # Backpropagation\n",
    "        optimizer.zero_grad()\n",
    "        loss.backward()\n",
    "        optimizer.step()\n",
    "\n",
    "        if batch % 100 == 0:\n",
    "            loss, current = loss.item(), batch * len(X)\n",
    "            print(f\"loss: {loss:>7f}  [{current:>5d}/{size:>5d}]\")"
   ]
  },
  {
   "cell_type": "markdown",
   "id": "8915b818-9a28-43ac-8424-c9a9ef725a3d",
   "metadata": {},
   "source": [
    "We also check the model’s performance against the test dataset to ensure it is learning."
   ]
  },
  {
   "cell_type": "code",
   "execution_count": 21,
   "id": "d8b2925d-25f7-403b-8dfa-f7a3e5cf3925",
   "metadata": {},
   "outputs": [],
   "source": [
    "def test(dataloader, model, loss_fn):\n",
    "    size = len(dataloader.dataset)\n",
    "    num_batches = len(dataloader)\n",
    "    model.eval()\n",
    "    test_loss, correct = 0, 0\n",
    "    with torch.no_grad():\n",
    "        for X, y in dataloader:\n",
    "            X, y = X.to(device), y.to(device)\n",
    "            pred = model(X)\n",
    "            test_loss += loss_fn(pred, y).item()\n",
    "            correct += (pred.argmax(1) == y).type(torch.float).sum().item()\n",
    "    test_loss /= num_batches\n",
    "    correct /= size\n",
    "    print(f\"Test Error: \\n Accuracy: {(100*correct):>0.1f}%, Avg loss: {test_loss:>8f} \\n\")"
   ]
  },
  {
   "cell_type": "markdown",
   "id": "fdf9bf37-d949-4d40-927c-a08278394e93",
   "metadata": {},
   "source": [
    "The training process is conducted over several iterations (epochs). During each epoch, the model learns parameters to make better predictions. We print the model’s accuracy and loss at each epoch; we’d like to see the accuracy increase and the loss decrease with every epoch."
   ]
  },
  {
   "cell_type": "code",
   "execution_count": 24,
   "id": "5d5375ea-74f1-4a9e-89a4-f09cb353840c",
   "metadata": {},
   "outputs": [
    {
     "name": "stdout",
     "output_type": "stream",
     "text": [
      "Epoch 1\n",
      "-------------------------------\n",
      "loss: 2.296764  [    0/60000]\n",
      "loss: 2.288813  [ 6400/60000]\n",
      "loss: 2.265554  [12800/60000]\n",
      "loss: 2.266268  [19200/60000]\n",
      "loss: 2.244622  [25600/60000]\n",
      "loss: 2.215903  [32000/60000]\n",
      "loss: 2.232400  [38400/60000]\n",
      "loss: 2.187399  [44800/60000]\n",
      "loss: 2.193706  [51200/60000]\n",
      "loss: 2.170219  [57600/60000]\n",
      "Test Error: \n",
      " Accuracy: 48.1%, Avg loss: 2.150659 \n",
      "\n",
      "Epoch 2\n",
      "-------------------------------\n",
      "loss: 2.157178  [    0/60000]\n",
      "loss: 2.149856  [ 6400/60000]\n",
      "loss: 2.086166  [12800/60000]\n",
      "loss: 2.108117  [19200/60000]\n",
      "loss: 2.055225  [25600/60000]\n",
      "loss: 1.997427  [32000/60000]\n",
      "loss: 2.040715  [38400/60000]\n",
      "loss: 1.942988  [44800/60000]\n",
      "loss: 1.957711  [51200/60000]\n",
      "loss: 1.910192  [57600/60000]\n",
      "Test Error: \n",
      " Accuracy: 53.0%, Avg loss: 1.881658 \n",
      "\n",
      "Epoch 3\n",
      "-------------------------------\n",
      "loss: 1.910236  [    0/60000]\n",
      "loss: 1.886373  [ 6400/60000]\n",
      "loss: 1.758327  [12800/60000]\n",
      "loss: 1.807700  [19200/60000]\n",
      "loss: 1.704001  [25600/60000]\n",
      "loss: 1.652482  [32000/60000]\n",
      "loss: 1.698580  [38400/60000]\n",
      "loss: 1.572675  [44800/60000]\n",
      "loss: 1.609417  [51200/60000]\n",
      "loss: 1.532629  [57600/60000]\n",
      "Test Error: \n",
      " Accuracy: 57.2%, Avg loss: 1.521118 \n",
      "\n",
      "Epoch 4\n",
      "-------------------------------\n",
      "loss: 1.583425  [    0/60000]\n",
      "loss: 1.556899  [ 6400/60000]\n",
      "loss: 1.395093  [12800/60000]\n",
      "loss: 1.475031  [19200/60000]\n",
      "loss: 1.365519  [25600/60000]\n",
      "loss: 1.353799  [32000/60000]\n",
      "loss: 1.391243  [38400/60000]\n",
      "loss: 1.291088  [44800/60000]\n",
      "loss: 1.332851  [51200/60000]\n",
      "loss: 1.254547  [57600/60000]\n",
      "Test Error: \n",
      " Accuracy: 61.8%, Avg loss: 1.261137 \n",
      "\n",
      "Epoch 5\n",
      "-------------------------------\n",
      "loss: 1.334624  [    0/60000]\n",
      "loss: 1.324634  [ 6400/60000]\n",
      "loss: 1.149481  [12800/60000]\n",
      "loss: 1.257469  [19200/60000]\n",
      "loss: 1.142314  [25600/60000]\n",
      "loss: 1.161515  [32000/60000]\n",
      "loss: 1.201723  [38400/60000]\n",
      "loss: 1.118007  [44800/60000]\n",
      "loss: 1.160830  [51200/60000]\n",
      "loss: 1.092450  [57600/60000]\n",
      "Test Error: \n",
      " Accuracy: 63.8%, Avg loss: 1.098738 \n",
      "\n",
      "Done!\n",
      "CPU times: user 15.1 s, sys: 5.91 s, total: 21 s\n",
      "Wall time: 15 s\n"
     ]
    }
   ],
   "source": [
    "%%time\n",
    "epochs = 5\n",
    "for t in range(epochs):\n",
    "    print(f\"Epoch {t+1}\\n-------------------------------\")\n",
    "    train(train_dataloader, model, loss_fn, optimizer)\n",
    "    test(test_dataloader, model, loss_fn)\n",
    "print(\"Done!\")"
   ]
  },
  {
   "cell_type": "markdown",
   "id": "08816755-e62e-4837-919f-b3ffb7f8cd19",
   "metadata": {},
   "source": [
    "## Saving Models"
   ]
  },
  {
   "cell_type": "code",
   "execution_count": 23,
   "id": "7c0bcca3-ff27-4c20-8d98-911cd766aee6",
   "metadata": {},
   "outputs": [
    {
     "name": "stdout",
     "output_type": "stream",
     "text": [
      "Saved PyTorch Model State to model.pth\n"
     ]
    }
   ],
   "source": [
    "torch.save(model.state_dict(), \"model.pth\")\n",
    "print(\"Saved PyTorch Model State to model.pth\")"
   ]
  },
  {
   "cell_type": "code",
   "execution_count": null,
   "id": "689971f2-ce00-4da6-9a1d-b7607fc367e9",
   "metadata": {},
   "outputs": [],
   "source": []
  }
 ],
 "metadata": {
  "kernelspec": {
   "display_name": "Python 3 (ipykernel)",
   "language": "python",
   "name": "python3"
  },
  "language_info": {
   "codemirror_mode": {
    "name": "ipython",
    "version": 3
   },
   "file_extension": ".py",
   "mimetype": "text/x-python",
   "name": "python",
   "nbconvert_exporter": "python",
   "pygments_lexer": "ipython3",
   "version": "3.9.7"
  }
 },
 "nbformat": 4,
 "nbformat_minor": 5
}
